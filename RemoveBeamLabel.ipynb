{
 "cells": [
  {
   "cell_type": "markdown",
   "id": "33768369-7e90-45ce-80d4-8b9ba4fc8443",
   "metadata": {},
   "source": [
    "# Remove beam label from assigns"
   ]
  },
  {
   "cell_type": "code",
   "execution_count": 1,
   "id": "c1ae2c60-1285-4fa4-b7f7-9e50ea2de9a0",
   "metadata": {},
   "outputs": [],
   "source": [
    "import pandas as pd\n",
    "import numpy as np\n",
    "import os\n",
    "import lib.csiapi as csiapi\n",
    "import lib.util as util\n",
    "\n",
    "%load_ext autoreload\n",
    "%autoreload 2"
   ]
  },
  {
   "cell_type": "code",
   "execution_count": 2,
   "id": "c80dd722-9ce3-4487-b0f7-9dfb32010e98",
   "metadata": {},
   "outputs": [
    {
     "name": "stdout",
     "output_type": "stream",
     "text": [
      "Succesfully created helper object\n",
      "Succesfully created SapModel\n"
     ]
    }
   ],
   "source": [
    "ETABSObject, SapModel = csiapi.get_active_etabs_object()\n",
    "# create folder for temporary csv files\n",
    "csv_folder_path = os.getcwd() + r'\\csv'\n",
    "if not os.path.exists(csv_folder_path):\n",
    "    os.makedirs(csv_folder_path)"
   ]
  },
  {
   "cell_type": "code",
   "execution_count": 3,
   "id": "53217bd1-36c2-4d55-921f-6368c9aed2a4",
   "metadata": {},
   "outputs": [],
   "source": [
    "def extract_base(data_string):\n",
    "    # Split the string by hyphen and join all parts except the last one\n",
    "    parts = data_string.split('-')\n",
    "    base_string = '-'.join(parts[:-1])\n",
    "    return base_string\n",
    "\n",
    "SapModel.SetModelIsLocked(False)\n",
    "frame_assignments_table = csiapi.get_table_display(SapModel, 'Frame Assignments - Summary')\n",
    "\n",
    "for i in frame_assignments_table.iterrows():\n",
    "    _, i = i\n",
    "    new_section = extract_base(i['Analysis Section'])\n",
    "    SapModel.FrameObj.SetSection(str(i['UniqueName']), extract_base(str(i['Analysis Section'])))\n",
    "    "
   ]
  },
  {
   "cell_type": "markdown",
   "id": "cd5f3745-ad7e-48f7-a6aa-42f90791df1e",
   "metadata": {},
   "source": [
    "# Remove sections with '-' entirely"
   ]
  },
  {
   "cell_type": "code",
   "execution_count": 4,
   "id": "a27a1566-2647-471b-a324-2aad23bd1ea9",
   "metadata": {},
   "outputs": [],
   "source": [
    "frame_sections_table = csiapi.get_table_display(SapModel, 'Frame Section Property Definitions - Summary')"
   ]
  },
  {
   "cell_type": "code",
   "execution_count": 5,
   "id": "e4e034cb-2afb-4075-ab03-d45894c0ed82",
   "metadata": {},
   "outputs": [],
   "source": [
    "for i in frame_sections_table.iterrows():\n",
    "    _, i = i\n",
    "    if '-' in i['Name']:\n",
    "        SapModel.PropFrame.Delete(i['Name'])"
   ]
  },
  {
   "cell_type": "code",
   "execution_count": null,
   "id": "00f2d172-d1fb-4e30-8a9d-e4e2e846407f",
   "metadata": {},
   "outputs": [],
   "source": []
  }
 ],
 "metadata": {
  "kernelspec": {
   "display_name": "Python 3 (ipykernel)",
   "language": "python",
   "name": "python3"
  },
  "language_info": {
   "codemirror_mode": {
    "name": "ipython",
    "version": 3
   },
   "file_extension": ".py",
   "mimetype": "text/x-python",
   "name": "python",
   "nbconvert_exporter": "python",
   "pygments_lexer": "ipython3",
   "version": "3.11.7"
  }
 },
 "nbformat": 4,
 "nbformat_minor": 5
}
